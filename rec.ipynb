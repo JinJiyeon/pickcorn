{
 "metadata": {
  "language_info": {
   "codemirror_mode": {
    "name": "ipython",
    "version": 3
   },
   "file_extension": ".py",
   "mimetype": "text/x-python",
   "name": "python",
   "nbconvert_exporter": "python",
   "pygments_lexer": "ipython3",
   "version": "3.8.5"
  },
  "orig_nbformat": 2,
  "kernelspec": {
   "name": "python3",
   "display_name": "Python 3.8.5 64-bit ('base': conda)",
   "metadata": {
    "interpreter": {
     "hash": "8622ff085c15f6cc9f9bc345308196ca585eaf1c49b171850405ec6bc4303143"
    }
   }
  }
 },
 "nbformat": 4,
 "nbformat_minor": 2,
 "cells": [
  {
   "cell_type": "code",
   "execution_count": 5,
   "metadata": {},
   "outputs": [],
   "source": [
    "# 주의점 : 일반 python에서도 scikit-learn 쓸 수 있는지\n",
    "\n",
    "import pandas as pd\n",
    "import numpy as np\n",
    "import warnings; warnings.filterwarnings('ignore')\n",
    "from ast import literal_eval\n",
    "from sklearn.feature_extraction.text import CountVectorizer\n",
    "from sklearn.metrics.pairwise import cosine_similarity"
   ]
  },
  {
   "cell_type": "code",
   "execution_count": 6,
   "metadata": {},
   "outputs": [],
   "source": [
    "from pandas import json_normalize\n",
    "import json"
   ]
  },
  {
   "cell_type": "code",
   "execution_count": 7,
   "metadata": {},
   "outputs": [
    {
     "output_type": "execute_result",
     "data": {
      "text/plain": [
       "'/Users/jinjiyeon/Desktop/code/03_pjt/bp2/final-pjt'"
      ]
     },
     "metadata": {},
     "execution_count": 7
    }
   ],
   "source": [
    "pwd"
   ]
  },
  {
   "cell_type": "code",
   "execution_count": 8,
   "metadata": {},
   "outputs": [],
   "source": [
    "f = open('movies_poster2.json')\n",
    "movie_poster2 = json.load(f)"
   ]
  },
  {
   "cell_type": "code",
   "execution_count": 9,
   "metadata": {},
   "outputs": [],
   "source": [
    "movie_poster = movie_poster2[0]\n",
    "df = pd.json_normalize(movie_poster['fields'])"
   ]
  },
  {
   "cell_type": "code",
   "execution_count": 10,
   "metadata": {},
   "outputs": [],
   "source": [
    "def from_json_to_df(jsfile):\n",
    "    json1 = pd.json_normalize(jsfile['fields'])\n",
    "    return json1"
   ]
  },
  {
   "cell_type": "code",
   "execution_count": 11,
   "metadata": {},
   "outputs": [
    {
     "output_type": "execute_result",
     "data": {
      "text/plain": [
       "                          title      id  \\\n",
       "0  Tom Clancy's Without Remorse  567189   \n",
       "\n",
       "                                            overview  \\\n",
       "0  An elite Navy SEAL uncovers an international c...   \n",
       "\n",
       "                        poster_path               genres  vote_average  \\\n",
       "0  /rEm96ib0sPiZBADNKBHKBv5bve9.jpg  [28, 12, 53, 10752]           7.3   \n",
       "\n",
       "   vote_count  \n",
       "0         907  "
      ],
      "text/html": "<div>\n<style scoped>\n    .dataframe tbody tr th:only-of-type {\n        vertical-align: middle;\n    }\n\n    .dataframe tbody tr th {\n        vertical-align: top;\n    }\n\n    .dataframe thead th {\n        text-align: right;\n    }\n</style>\n<table border=\"1\" class=\"dataframe\">\n  <thead>\n    <tr style=\"text-align: right;\">\n      <th></th>\n      <th>title</th>\n      <th>id</th>\n      <th>overview</th>\n      <th>poster_path</th>\n      <th>genres</th>\n      <th>vote_average</th>\n      <th>vote_count</th>\n    </tr>\n  </thead>\n  <tbody>\n    <tr>\n      <th>0</th>\n      <td>Tom Clancy's Without Remorse</td>\n      <td>567189</td>\n      <td>An elite Navy SEAL uncovers an international c...</td>\n      <td>/rEm96ib0sPiZBADNKBHKBv5bve9.jpg</td>\n      <td>[28, 12, 53, 10752]</td>\n      <td>7.3</td>\n      <td>907</td>\n    </tr>\n  </tbody>\n</table>\n</div>"
     },
     "metadata": {},
     "execution_count": 11
    }
   ],
   "source": [
    "df"
   ]
  },
  {
   "cell_type": "code",
   "execution_count": 12,
   "metadata": {
    "tags": []
   },
   "outputs": [],
   "source": [
    "# to_df = pd.DataFrame()\n",
    "for movie in map(from_json_to_df, movie_poster2):\n",
    "    df = df.append(movie, ignore_index=True)\n",
    "    # print(movie)\n",
    "    # print(type(movie))\n",
    "    # print(movie.columns)"
   ]
  },
  {
   "cell_type": "code",
   "execution_count": 13,
   "metadata": {},
   "outputs": [],
   "source": [
    "df = df[1:]"
   ]
  },
  {
   "cell_type": "code",
   "execution_count": 14,
   "metadata": {},
   "outputs": [
    {
     "output_type": "execute_result",
     "data": {
      "text/plain": [
       "                                      title      id  \\\n",
       "1              Tom Clancy's Without Remorse  567189   \n",
       "2                             Mortal Kombat  460465   \n",
       "3                         Godzilla vs. Kong  399566   \n",
       "4                                    Nobody  615457   \n",
       "5  Monster Pets: A Hotel Transylvania Short  813258   \n",
       "\n",
       "                                            overview  \\\n",
       "1  An elite Navy SEAL uncovers an international c...   \n",
       "2  Washed-up MMA fighter Cole Young, unaware of h...   \n",
       "3  In a time when monsters walk the Earth, humani...   \n",
       "4  Hutch Mansell, a suburban dad, overlooked husb...   \n",
       "5  Drac tries out some new monster pets to help o...   \n",
       "\n",
       "                        poster_path               genres  vote_average  \\\n",
       "1  /rEm96ib0sPiZBADNKBHKBv5bve9.jpg  [28, 12, 53, 10752]           7.3   \n",
       "2  /nkayOAUBUu4mMvyNf9iHSUiPjF1.jpg         [28, 14, 12]           7.6   \n",
       "3  /pgqgaUx1cJb5oZQQ5v0tNARCeBp.jpg        [878, 28, 18]           8.1   \n",
       "4  /oBgWY00bEFeZ9N25wWVyuQddbAo.jpg     [28, 53, 80, 35]           8.4   \n",
       "5  /dkokENeY5Ka30BFgWAqk14mbnGs.jpg         [16, 35, 14]           7.7   \n",
       "\n",
       "   vote_count  \n",
       "1         907  \n",
       "2        2518  \n",
       "3        5549  \n",
       "4        1523  \n",
       "5         116  "
      ],
      "text/html": "<div>\n<style scoped>\n    .dataframe tbody tr th:only-of-type {\n        vertical-align: middle;\n    }\n\n    .dataframe tbody tr th {\n        vertical-align: top;\n    }\n\n    .dataframe thead th {\n        text-align: right;\n    }\n</style>\n<table border=\"1\" class=\"dataframe\">\n  <thead>\n    <tr style=\"text-align: right;\">\n      <th></th>\n      <th>title</th>\n      <th>id</th>\n      <th>overview</th>\n      <th>poster_path</th>\n      <th>genres</th>\n      <th>vote_average</th>\n      <th>vote_count</th>\n    </tr>\n  </thead>\n  <tbody>\n    <tr>\n      <th>1</th>\n      <td>Tom Clancy's Without Remorse</td>\n      <td>567189</td>\n      <td>An elite Navy SEAL uncovers an international c...</td>\n      <td>/rEm96ib0sPiZBADNKBHKBv5bve9.jpg</td>\n      <td>[28, 12, 53, 10752]</td>\n      <td>7.3</td>\n      <td>907</td>\n    </tr>\n    <tr>\n      <th>2</th>\n      <td>Mortal Kombat</td>\n      <td>460465</td>\n      <td>Washed-up MMA fighter Cole Young, unaware of h...</td>\n      <td>/nkayOAUBUu4mMvyNf9iHSUiPjF1.jpg</td>\n      <td>[28, 14, 12]</td>\n      <td>7.6</td>\n      <td>2518</td>\n    </tr>\n    <tr>\n      <th>3</th>\n      <td>Godzilla vs. Kong</td>\n      <td>399566</td>\n      <td>In a time when monsters walk the Earth, humani...</td>\n      <td>/pgqgaUx1cJb5oZQQ5v0tNARCeBp.jpg</td>\n      <td>[878, 28, 18]</td>\n      <td>8.1</td>\n      <td>5549</td>\n    </tr>\n    <tr>\n      <th>4</th>\n      <td>Nobody</td>\n      <td>615457</td>\n      <td>Hutch Mansell, a suburban dad, overlooked husb...</td>\n      <td>/oBgWY00bEFeZ9N25wWVyuQddbAo.jpg</td>\n      <td>[28, 53, 80, 35]</td>\n      <td>8.4</td>\n      <td>1523</td>\n    </tr>\n    <tr>\n      <th>5</th>\n      <td>Monster Pets: A Hotel Transylvania Short</td>\n      <td>813258</td>\n      <td>Drac tries out some new monster pets to help o...</td>\n      <td>/dkokENeY5Ka30BFgWAqk14mbnGs.jpg</td>\n      <td>[16, 35, 14]</td>\n      <td>7.7</td>\n      <td>116</td>\n    </tr>\n  </tbody>\n</table>\n</div>"
     },
     "metadata": {},
     "execution_count": 14
    }
   ],
   "source": [
    "df.head()"
   ]
  },
  {
   "cell_type": "code",
   "execution_count": 172,
   "metadata": {},
   "outputs": [],
   "source": [
    "df = df.reset_index(drop=True)"
   ]
  },
  {
   "cell_type": "code",
   "execution_count": 173,
   "metadata": {},
   "outputs": [],
   "source": [
    "# 이 부분을 json 파일을 받아오는 것으로 바꾸어야 함\n",
    "\n",
    "# movies =pd.read_csv('tmdb_5000_movies.csv')\n",
    "\n",
    "movies_df = df      \n",
    "\n"
   ]
  },
  {
   "cell_type": "code",
   "execution_count": 174,
   "metadata": {},
   "outputs": [
    {
     "output_type": "execute_result",
     "data": {
      "text/plain": [
       "                                      title      id  \\\n",
       "0              Tom Clancy's Without Remorse  567189   \n",
       "1                             Mortal Kombat  460465   \n",
       "2                         Godzilla vs. Kong  399566   \n",
       "3                                    Nobody  615457   \n",
       "4  Monster Pets: A Hotel Transylvania Short  813258   \n",
       "\n",
       "                                            overview  \\\n",
       "0  An elite Navy SEAL uncovers an international c...   \n",
       "1  Washed-up MMA fighter Cole Young, unaware of h...   \n",
       "2  In a time when monsters walk the Earth, humani...   \n",
       "3  Hutch Mansell, a suburban dad, overlooked husb...   \n",
       "4  Drac tries out some new monster pets to help o...   \n",
       "\n",
       "                        poster_path               genres  vote_average  \\\n",
       "0  /rEm96ib0sPiZBADNKBHKBv5bve9.jpg  [28, 12, 53, 10752]           7.3   \n",
       "1  /nkayOAUBUu4mMvyNf9iHSUiPjF1.jpg         [28, 14, 12]           7.6   \n",
       "2  /pgqgaUx1cJb5oZQQ5v0tNARCeBp.jpg        [878, 28, 18]           8.1   \n",
       "3  /oBgWY00bEFeZ9N25wWVyuQddbAo.jpg     [28, 53, 80, 35]           8.4   \n",
       "4  /dkokENeY5Ka30BFgWAqk14mbnGs.jpg         [16, 35, 14]           7.7   \n",
       "\n",
       "   vote_count  genres_literal  weighted_vote  \n",
       "0         907  28 12 53 10752       6.778816  \n",
       "1        2518        28 14 12       7.211730  \n",
       "2        5549       878 28 18       7.800131  \n",
       "3        1523     28 53 80 35       7.521119  \n",
       "4         116        16 35 14       6.493526  "
      ],
      "text/html": "<div>\n<style scoped>\n    .dataframe tbody tr th:only-of-type {\n        vertical-align: middle;\n    }\n\n    .dataframe tbody tr th {\n        vertical-align: top;\n    }\n\n    .dataframe thead th {\n        text-align: right;\n    }\n</style>\n<table border=\"1\" class=\"dataframe\">\n  <thead>\n    <tr style=\"text-align: right;\">\n      <th></th>\n      <th>title</th>\n      <th>id</th>\n      <th>overview</th>\n      <th>poster_path</th>\n      <th>genres</th>\n      <th>vote_average</th>\n      <th>vote_count</th>\n      <th>genres_literal</th>\n      <th>weighted_vote</th>\n    </tr>\n  </thead>\n  <tbody>\n    <tr>\n      <th>0</th>\n      <td>Tom Clancy's Without Remorse</td>\n      <td>567189</td>\n      <td>An elite Navy SEAL uncovers an international c...</td>\n      <td>/rEm96ib0sPiZBADNKBHKBv5bve9.jpg</td>\n      <td>[28, 12, 53, 10752]</td>\n      <td>7.3</td>\n      <td>907</td>\n      <td>28 12 53 10752</td>\n      <td>6.778816</td>\n    </tr>\n    <tr>\n      <th>1</th>\n      <td>Mortal Kombat</td>\n      <td>460465</td>\n      <td>Washed-up MMA fighter Cole Young, unaware of h...</td>\n      <td>/nkayOAUBUu4mMvyNf9iHSUiPjF1.jpg</td>\n      <td>[28, 14, 12]</td>\n      <td>7.6</td>\n      <td>2518</td>\n      <td>28 14 12</td>\n      <td>7.211730</td>\n    </tr>\n    <tr>\n      <th>2</th>\n      <td>Godzilla vs. Kong</td>\n      <td>399566</td>\n      <td>In a time when monsters walk the Earth, humani...</td>\n      <td>/pgqgaUx1cJb5oZQQ5v0tNARCeBp.jpg</td>\n      <td>[878, 28, 18]</td>\n      <td>8.1</td>\n      <td>5549</td>\n      <td>878 28 18</td>\n      <td>7.800131</td>\n    </tr>\n    <tr>\n      <th>3</th>\n      <td>Nobody</td>\n      <td>615457</td>\n      <td>Hutch Mansell, a suburban dad, overlooked husb...</td>\n      <td>/oBgWY00bEFeZ9N25wWVyuQddbAo.jpg</td>\n      <td>[28, 53, 80, 35]</td>\n      <td>8.4</td>\n      <td>1523</td>\n      <td>28 53 80 35</td>\n      <td>7.521119</td>\n    </tr>\n    <tr>\n      <th>4</th>\n      <td>Monster Pets: A Hotel Transylvania Short</td>\n      <td>813258</td>\n      <td>Drac tries out some new monster pets to help o...</td>\n      <td>/dkokENeY5Ka30BFgWAqk14mbnGs.jpg</td>\n      <td>[16, 35, 14]</td>\n      <td>7.7</td>\n      <td>116</td>\n      <td>16 35 14</td>\n      <td>6.493526</td>\n    </tr>\n  </tbody>\n</table>\n</div>"
     },
     "metadata": {},
     "execution_count": 174
    }
   ],
   "source": [
    "movies_df.head()"
   ]
  },
  {
   "cell_type": "code",
   "execution_count": 149,
   "metadata": {},
   "outputs": [],
   "source": [
    "# movies_df['genres'] = movies_df['genres'].apply(literal_eval)\n",
    "# movies_df['genres'] = movies_df['genres'].apply(lambda x : [ y['name'] for y in x])"
   ]
  },
  {
   "cell_type": "code",
   "execution_count": 150,
   "metadata": {},
   "outputs": [],
   "source": [
    "# lst = ['Action', 'Adventure', 'Fantasy', 'Science', 'Fiction']\n",
    "# ' '.join(lst)\n",
    "\n",
    "# lst = [1,2,3,4,5]\n",
    "# a = ' '.join(map(str,lst)) \n",
    "# print(a)\n",
    "# def int_to_str(lst):\n",
    "#     string_ints = [str(e) for e in lst]\n",
    "#     return ' '.join(string_ints)\n",
    "    "
   ]
  },
  {
   "cell_type": "code",
   "execution_count": 175,
   "metadata": {},
   "outputs": [],
   "source": [
    "movies_df['genres_literal'] = movies_df['genres'].apply(lambda x : (' ').join(map(str, x)))"
   ]
  },
  {
   "cell_type": "code",
   "execution_count": 176,
   "metadata": {},
   "outputs": [],
   "source": [
    "count_vect = CountVectorizer(min_df=0, ngram_range=(1,2))"
   ]
  },
  {
   "cell_type": "code",
   "execution_count": 177,
   "metadata": {},
   "outputs": [],
   "source": [
    "\n",
    "\n",
    "movies_df['genres_literal'] = movies_df['genres'].apply(lambda x : (' ').join(map(str, x)))\n",
    "\n",
    "count_vect = CountVectorizer(min_df=0, ngram_range=(1,2))\n",
    "genre_mat = count_vect.fit_transform(movies_df['genres_literal'])\n",
    "\n",
    "genre_sim = cosine_similarity(genre_mat, genre_mat)\n",
    "\n",
    "genre_sim_sorted_ind = genre_sim.argsort()[:, ::-1]"
   ]
  },
  {
   "cell_type": "code",
   "execution_count": 178,
   "metadata": {},
   "outputs": [],
   "source": [
    "genre_mat = count_vect.fit_transform(movies_df['genres_literal'])"
   ]
  },
  {
   "cell_type": "code",
   "execution_count": 179,
   "metadata": {},
   "outputs": [],
   "source": [
    "genre_sim = cosine_similarity(genre_mat, genre_mat)"
   ]
  },
  {
   "cell_type": "code",
   "execution_count": 180,
   "metadata": {},
   "outputs": [],
   "source": [
    "# argsort : 정렬하는 인덱스를 반환\n",
    "# ::-1 : 내림차순으로 정렬\n",
    "genre_sim_sorted_ind = genre_sim.argsort()[:, ::-1]"
   ]
  },
  {
   "cell_type": "code",
   "execution_count": 181,
   "metadata": {},
   "outputs": [
    {
     "output_type": "execute_result",
     "data": {
      "text/plain": [
       "array([[   0, 1280, 1207, ..., 2744, 2733, 2492],\n",
       "       [   1, 1171, 3528, ..., 2919, 2918, 2492],\n",
       "       [ 836,    2, 3457, ..., 1621, 1622, 3803],\n",
       "       ...,\n",
       "       [4982, 4253, 4208, ..., 1187, 4332, 4116],\n",
       "       [2851, 4558, 4814, ..., 2219, 2217, 2492],\n",
       "       [4984, 1742, 4557, ..., 2065, 2063,    0]])"
      ]
     },
     "metadata": {},
     "execution_count": 181
    }
   ],
   "source": [
    "# 정 안 되면 얘를 db에 싣는다..\n",
    "\n",
    "genre_sim_sorted_ind"
   ]
  },
  {
   "cell_type": "code",
   "execution_count": 182,
   "metadata": {},
   "outputs": [],
   "source": [
    "# weighted_vote 구하기\n",
    "\n",
    "percentile = 0.6\n",
    "m = movies_df['vote_count'].quantile(percentile)\n",
    "C = movies_df['vote_average'].mean()\n",
    "\n",
    "def weighted_vote_average(record):\n",
    "    v = record['vote_count']\n",
    "    R = record['vote_average']\n",
    "    \n",
    "    return ( (v/(v+m)) * R ) + ( (m/(m+v)) * C )   \n",
    "\n",
    "movies_df['weighted_vote'] = movies_df.apply(weighted_vote_average, axis=1)\n",
    "\n"
   ]
  },
  {
   "cell_type": "code",
   "execution_count": 238,
   "metadata": {},
   "outputs": [
    {
     "output_type": "execute_result",
     "data": {
      "text/plain": [
       "6.523935898290913"
      ]
     },
     "metadata": {},
     "execution_count": 238
    }
   ],
   "source": [
    "df['weighted_vote'].mean()"
   ]
  },
  {
   "cell_type": "code",
   "execution_count": 212,
   "metadata": {},
   "outputs": [],
   "source": [
    "def find_sim_movie(df, sorted_ind, movie_id, top_n=10):\n",
    "    # df에서 id인 행과 그 인덱스\n",
    "    title_movie = df[df['id'] == movie_id]\n",
    "    title_index = title_movie.index.values\n",
    "    \n",
    "    # top_n의 2배에 해당하는 쟝르 유사성이 높은 index 추출 - 기준영화\n",
    "    similar_indexes = sorted_ind[title_index, :(top_n*2)]\n",
    "    similar_indexes = similar_indexes.reshape(-1)\n",
    "    similar_indexes = similar_indexes[similar_indexes != title_index]\n",
    "    \n",
    "    # top_n의 2배에 해당하는 후보군에서 weighted_vote 높은 순으로 top_n 만큼 추출 \n",
    "    return df.iloc[similar_indexes].sort_values('weighted_vote', ascending=False)[:top_n]\n"
   ]
  },
  {
   "cell_type": "code",
   "execution_count": 213,
   "metadata": {
    "tags": []
   },
   "outputs": [],
   "source": [
    "# movies와 merge할 df_recom 생성\n",
    "\n",
    "df_recom = pd.DataFrame()\n",
    "\n",
    "for id in movies_df['id']:\n",
    "    similar_movies = find_sim_movie(movies_df, genre_sim_sorted_ind, id, 3)\n",
    "    \n",
    "    recommends = []\n",
    "    for index, row in similar_movies.iterrows():\n",
    "        recommends.append(row['id'])\n",
    "    \n",
    "    df_add = pd.DataFrame(data={'id':id, 'recommends':[recommends]})\n",
    "    df_recom = pd.concat([df_recom, df_add])\n",
    "\n"
   ]
  },
  {
   "cell_type": "code",
   "execution_count": 215,
   "metadata": {},
   "outputs": [],
   "source": [
    "df_final = movies_df.merge(df_recom)"
   ]
  },
  {
   "cell_type": "code",
   "execution_count": 216,
   "metadata": {},
   "outputs": [
    {
     "output_type": "execute_result",
     "data": {
      "text/plain": [
       "                          title      id  \\\n",
       "0  Tom Clancy's Without Remorse  567189   \n",
       "1                 Mortal Kombat  460465   \n",
       "2             Godzilla vs. Kong  399566   \n",
       "\n",
       "                                            overview  \\\n",
       "0  An elite Navy SEAL uncovers an international c...   \n",
       "1  Washed-up MMA fighter Cole Young, unaware of h...   \n",
       "2  In a time when monsters walk the Earth, humani...   \n",
       "\n",
       "                        poster_path               genres  vote_average  \\\n",
       "0  /rEm96ib0sPiZBADNKBHKBv5bve9.jpg  [28, 12, 53, 10752]           7.3   \n",
       "1  /nkayOAUBUu4mMvyNf9iHSUiPjF1.jpg         [28, 14, 12]           7.6   \n",
       "2  /pgqgaUx1cJb5oZQQ5v0tNARCeBp.jpg        [878, 28, 18]           8.1   \n",
       "\n",
       "   vote_count  genres_literal  weighted_vote                recommends  \n",
       "0         907  28 12 53 10752       6.778816       [1368, 1369, 49021]  \n",
       "1        2518        28 14 12       7.211730  [592350, 420426, 170657]  \n",
       "2        5549       878 28 18       7.800131    [119450, 22843, 75629]  "
      ],
      "text/html": "<div>\n<style scoped>\n    .dataframe tbody tr th:only-of-type {\n        vertical-align: middle;\n    }\n\n    .dataframe tbody tr th {\n        vertical-align: top;\n    }\n\n    .dataframe thead th {\n        text-align: right;\n    }\n</style>\n<table border=\"1\" class=\"dataframe\">\n  <thead>\n    <tr style=\"text-align: right;\">\n      <th></th>\n      <th>title</th>\n      <th>id</th>\n      <th>overview</th>\n      <th>poster_path</th>\n      <th>genres</th>\n      <th>vote_average</th>\n      <th>vote_count</th>\n      <th>genres_literal</th>\n      <th>weighted_vote</th>\n      <th>recommends</th>\n    </tr>\n  </thead>\n  <tbody>\n    <tr>\n      <th>0</th>\n      <td>Tom Clancy's Without Remorse</td>\n      <td>567189</td>\n      <td>An elite Navy SEAL uncovers an international c...</td>\n      <td>/rEm96ib0sPiZBADNKBHKBv5bve9.jpg</td>\n      <td>[28, 12, 53, 10752]</td>\n      <td>7.3</td>\n      <td>907</td>\n      <td>28 12 53 10752</td>\n      <td>6.778816</td>\n      <td>[1368, 1369, 49021]</td>\n    </tr>\n    <tr>\n      <th>1</th>\n      <td>Mortal Kombat</td>\n      <td>460465</td>\n      <td>Washed-up MMA fighter Cole Young, unaware of h...</td>\n      <td>/nkayOAUBUu4mMvyNf9iHSUiPjF1.jpg</td>\n      <td>[28, 14, 12]</td>\n      <td>7.6</td>\n      <td>2518</td>\n      <td>28 14 12</td>\n      <td>7.211730</td>\n      <td>[592350, 420426, 170657]</td>\n    </tr>\n    <tr>\n      <th>2</th>\n      <td>Godzilla vs. Kong</td>\n      <td>399566</td>\n      <td>In a time when monsters walk the Earth, humani...</td>\n      <td>/pgqgaUx1cJb5oZQQ5v0tNARCeBp.jpg</td>\n      <td>[878, 28, 18]</td>\n      <td>8.1</td>\n      <td>5549</td>\n      <td>878 28 18</td>\n      <td>7.800131</td>\n      <td>[119450, 22843, 75629]</td>\n    </tr>\n  </tbody>\n</table>\n</div>"
     },
     "metadata": {},
     "execution_count": 216
    }
   ],
   "source": [
    "# 최종 데이터\n",
    "\n",
    "df_final.head(3)"
   ]
  },
  {
   "cell_type": "code",
   "execution_count": 218,
   "metadata": {},
   "outputs": [],
   "source": [
    "# 최종 데이터\n",
    "df_final.drop(columns=['genres_literal'], inplace=True)"
   ]
  },
  {
   "cell_type": "code",
   "execution_count": 222,
   "metadata": {},
   "outputs": [
    {
     "output_type": "execute_result",
     "data": {
      "text/plain": [
       "list"
      ]
     },
     "metadata": {},
     "execution_count": 222
    }
   ],
   "source": [
    "type(df_final.loc[0, 'recommends'])"
   ]
  },
  {
   "cell_type": "code",
   "execution_count": 225,
   "metadata": {},
   "outputs": [],
   "source": [
    "df_json = df_final.copy(deep=True)"
   ]
  },
  {
   "cell_type": "code",
   "execution_count": 233,
   "metadata": {},
   "outputs": [],
   "source": [
    "movie_list = []\n",
    "\n",
    "for idx, data in df_json.iterrows():\n",
    "    movie = {\n",
    "        'model': 'movies.movie',\n",
    "        'fields':{\n",
    "            'title': data.get('title'),\n",
    "            'id': data.get('id'),\n",
    "            'overview': data.get('overview'),\n",
    "            'poster_path': data.get('poster_path'),\n",
    "            # \n",
    "            'genres': data.get('genres'),\n",
    "            'vote_average': data.get('vote_average'),\n",
    "            'vote_count': data.get('vote_count'),\n",
    "            'weighted_vote': data.get('weighted_vote'),\n",
    "            'recommends': data.get('recommends')\n",
    "        }\n",
    "    }\n",
    "    movie_list.append(movie)"
   ]
  },
  {
   "cell_type": "code",
   "execution_count": 236,
   "metadata": {},
   "outputs": [],
   "source": [
    "with open('movies_recommends.json', 'w', encoding='utf-8') as f:\n",
    "    json.dump(movie_list, f)"
   ]
  },
  {
   "cell_type": "code",
   "execution_count": 235,
   "metadata": {},
   "outputs": [
    {
     "output_type": "execute_result",
     "data": {
      "text/plain": [
       "4985"
      ]
     },
     "metadata": {},
     "execution_count": 235
    }
   ],
   "source": [
    "len(movie_list)"
   ]
  },
  {
   "cell_type": "code",
   "execution_count": null,
   "metadata": {},
   "outputs": [],
   "source": []
  }
 ]
}