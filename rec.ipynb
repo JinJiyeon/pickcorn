{
 "metadata": {
  "language_info": {
   "codemirror_mode": {
    "name": "ipython",
    "version": 3
   },
   "file_extension": ".py",
   "mimetype": "text/x-python",
   "name": "python",
   "nbconvert_exporter": "python",
   "pygments_lexer": "ipython3",
   "version": "3.8.5"
  },
  "orig_nbformat": 2,
  "kernelspec": {
   "name": "python3",
   "display_name": "Python 3.8.5 64-bit ('base': conda)",
   "metadata": {
    "interpreter": {
     "hash": "8622ff085c15f6cc9f9bc345308196ca585eaf1c49b171850405ec6bc4303143"
    }
   }
  }
 },
 "nbformat": 4,
 "nbformat_minor": 2,
 "cells": [
  {
   "cell_type": "code",
   "execution_count": 4,
   "metadata": {},
   "outputs": [],
   "source": [
    "# 주의점 : 일반 python에서도 scikit-learn 쓸 수 있는지\n",
    "\n",
    "import pandas as pd\n",
    "import numpy as np\n",
    "import warnings; warnings.filterwarnings('ignore')\n",
    "from ast import literal_eval\n",
    "from sklearn.feature_extraction.text import CountVectorizer\n",
    "from sklearn.metrics.pairwise import cosine_similarity"
   ]
  },
  {
   "cell_type": "code",
   "execution_count": 12,
   "metadata": {},
   "outputs": [],
   "source": [
    "# 이 부분을 json 파일을 받아오는 것으로 바꾸어야 함\n",
    "\n",
    "movies =pd.read_csv('tmdb_5000_movies.csv')\n",
    "\n",
    "movies_df = movies[['id','title', 'genres', 'vote_average', 'vote_count', 'overview']]          \n",
    "\n",
    "movies_df['genres'] = movies_df['genres'].apply(literal_eval)\n",
    "movies_df['genres'] = movies_df['genres'].apply(lambda x : [ y['name'] for y in x])\n",
    "\n",
    "movies_df['genres_literal'] = movies_df['genres'].apply(lambda x : (' ').join(x))\n",
    "\n",
    "count_vect = CountVectorizer(min_df=0, ngram_range=(1,2))\n",
    "genre_mat = count_vect.fit_transform(movies_df['genres_literal'])\n",
    "\n",
    "genre_sim = cosine_similarity(genre_mat, genre_mat)\n",
    "\n",
    "genre_sim_sorted_ind = genre_sim.argsort()[:, ::-1]"
   ]
  },
  {
   "cell_type": "code",
   "execution_count": 24,
   "metadata": {},
   "outputs": [
    {
     "output_type": "execute_result",
     "data": {
      "text/plain": [
       "array([[   0, 3494,  813, ..., 3038, 3037, 2401],\n",
       "       [ 262,    1,  129, ..., 3069, 3067, 2401],\n",
       "       [   2, 1740, 1542, ..., 3000, 2999, 2401],\n",
       "       ...,\n",
       "       [4800, 3809, 1895, ..., 2229, 2230,    0],\n",
       "       [4802, 1594, 1596, ..., 3204, 3205,    0],\n",
       "       [4802, 4710, 4521, ..., 3140, 3141,    0]])"
      ]
     },
     "metadata": {},
     "execution_count": 24
    }
   ],
   "source": [
    "# 정 안 되면 얘를 db에 싣는다..\n",
    "\n",
    "genre_sim_sorted_ind"
   ]
  },
  {
   "cell_type": "code",
   "execution_count": 39,
   "metadata": {},
   "outputs": [],
   "source": [
    "# weighted_vote 구하기\n",
    "\n",
    "percentile = 0.6\n",
    "m = movies_df['vote_count'].quantile(percentile)\n",
    "C = movies_df['vote_average'].mean()\n",
    "\n",
    "def weighted_vote_average(record):\n",
    "    v = record['vote_count']\n",
    "    R = record['vote_average']\n",
    "    \n",
    "    return ( (v/(v+m)) * R ) + ( (m/(m+v)) * C )   \n",
    "\n",
    "movies_df['weighted_vote'] = movies_df.apply(weighted_vote_average, axis=1)\n",
    "\n"
   ]
  },
  {
   "cell_type": "code",
   "execution_count": 61,
   "metadata": {},
   "outputs": [],
   "source": [
    "def find_sim_movie(df, sorted_ind, movie_id, top_n=10):\n",
    "    # df에서 id인 행과 그 인덱스\n",
    "    title_movie = df[df['id'] == movie_id]\n",
    "    title_index = title_movie.index.values\n",
    "    \n",
    "    # top_n의 2배에 해당하는 쟝르 유사성이 높은 index 추출 - 기준영화\n",
    "    similar_indexes = sorted_ind[title_index, :(top_n*2)]\n",
    "    similar_indexes = similar_indexes.reshape(-1)\n",
    "    similar_indexes = similar_indexes[similar_indexes != title_index]\n",
    "    \n",
    "    # top_n의 2배에 해당하는 후보군에서 weighted_vote 높은 순으로 top_n 만큼 추출 \n",
    "    return df.iloc[similar_indexes].sort_values('weighted_vote', ascending=False)[:top_n]\n"
   ]
  },
  {
   "cell_type": "code",
   "execution_count": 63,
   "metadata": {},
   "outputs": [
    {
     "output_type": "execute_result",
     "data": {
      "text/plain": [
       "                       title      id\n",
       "1599      The Age of Adaline  293863\n",
       "1597                Southpaw  307081\n",
       "1596                 Sicario  273481\n",
       "1594            Corpse Bride    3933\n",
       "1603   Stranger Than Fiction    1262\n",
       "1607            Midnight Run    9013\n",
       "1605  The Cabin in the Woods   22970\n",
       "1600        Secondhand Lions   13156\n",
       "1610                   Hanna   50456\n",
       "1601              Step Up 3D   41233"
      ],
      "text/html": "<div>\n<style scoped>\n    .dataframe tbody tr th:only-of-type {\n        vertical-align: middle;\n    }\n\n    .dataframe tbody tr th {\n        vertical-align: top;\n    }\n\n    .dataframe thead th {\n        text-align: right;\n    }\n</style>\n<table border=\"1\" class=\"dataframe\">\n  <thead>\n    <tr style=\"text-align: right;\">\n      <th></th>\n      <th>title</th>\n      <th>id</th>\n    </tr>\n  </thead>\n  <tbody>\n    <tr>\n      <th>1599</th>\n      <td>The Age of Adaline</td>\n      <td>293863</td>\n    </tr>\n    <tr>\n      <th>1597</th>\n      <td>Southpaw</td>\n      <td>307081</td>\n    </tr>\n    <tr>\n      <th>1596</th>\n      <td>Sicario</td>\n      <td>273481</td>\n    </tr>\n    <tr>\n      <th>1594</th>\n      <td>Corpse Bride</td>\n      <td>3933</td>\n    </tr>\n    <tr>\n      <th>1603</th>\n      <td>Stranger Than Fiction</td>\n      <td>1262</td>\n    </tr>\n    <tr>\n      <th>1607</th>\n      <td>Midnight Run</td>\n      <td>9013</td>\n    </tr>\n    <tr>\n      <th>1605</th>\n      <td>The Cabin in the Woods</td>\n      <td>22970</td>\n    </tr>\n    <tr>\n      <th>1600</th>\n      <td>Secondhand Lions</td>\n      <td>13156</td>\n    </tr>\n    <tr>\n      <th>1610</th>\n      <td>Hanna</td>\n      <td>50456</td>\n    </tr>\n    <tr>\n      <th>1601</th>\n      <td>Step Up 3D</td>\n      <td>41233</td>\n    </tr>\n  </tbody>\n</table>\n</div>"
     },
     "metadata": {},
     "execution_count": 63
    }
   ],
   "source": [
    "similar_movies = find_sim_movie(movies_df, genre_sim_sorted_ind, 126186, 10)\n",
    "similar_movies[['title', 'id']]"
   ]
  },
  {
   "cell_type": "code",
   "execution_count": null,
   "metadata": {},
   "outputs": [],
   "source": [
    "# 얘를 이제 json으로 내보낸다"
   ]
  }
 ]
}