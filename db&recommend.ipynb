{
 "metadata": {
  "language_info": {
   "codemirror_mode": {
    "name": "ipython",
    "version": 3
   },
   "file_extension": ".py",
   "mimetype": "text/x-python",
   "name": "python",
   "nbconvert_exporter": "python",
   "pygments_lexer": "ipython3",
   "version": 3
  },
  "orig_nbformat": 2
 },
 "nbformat": 4,
 "nbformat_minor": 2,
 "cells": [
  {
   "cell_type": "code",
   "execution_count": null,
   "metadata": {},
   "outputs": [],
   "source": [
    "import json\n",
    "import requests\n",
    "import numpy as np\n",
    "import pandas as pd\n",
    "import warnings; warnings.filterwarnings('ignore')\n",
    "from ast import literal_eval\n",
    "from pandas import json_normalize\n",
    "from sklearn.feature_extraction.text import CountVectorizer\n",
    "from sklearn.metrics.pairwise import cosine_similarity"
   ]
  },
  {
   "cell_type": "code",
   "execution_count": null,
   "metadata": {},
   "outputs": [],
   "source": [
    "# api로 불러온 파일을 json 형태로 저장 \n",
    "\n",
    "API_KEY = 'c9770fb1bb1a8093a00403d97f04494a'\n",
    "BASE_URL = 'https://api.themoviedb.org/3/movie/popular/'\n",
    "movie_list = []\n",
    "\n",
    "for i in range(1,251):\n",
    "    response = requests.get(BASE_URL, { 'api_key': API_KEY, 'page': i })\n",
    "    json_data = response.json()\n",
    "\n",
    "\n",
    "    for data in json_data.get('results'):\n",
    "        # poster_path가 null 값인 movie는 저장하지 않음!\n",
    "        if data.get('poster_path'):\n",
    "            movie = {\n",
    "                'model': 'movies.movie',\n",
    "                'fields':{\n",
    "                    'title': data.get('title'),\n",
    "                    'id': data.get('id'),\n",
    "                    'overview': data.get('overview'),\n",
    "                    'poster_path': data.get('poster_path'),\n",
    "                    # \n",
    "                    'genres': data.get('genre_ids'),\n",
    "                    'vote_average': data.get('vote_average'),\n",
    "                    'vote_count': data.get('vote_count')\n",
    "                }\n",
    "            }\n",
    "            movie_list.append(movie)\n",
    "\n",
    "with open('movies_poster2.json', 'w', encoding='utf-8') as f:\n",
    "    json.dump(movie_list, f)"
   ]
  },
  {
   "cell_type": "code",
   "execution_count": null,
   "metadata": {},
   "outputs": [],
   "source": [
    "# json 파일을 dataframe 으로 변환\n",
    "def from_json_to_df(jsfile):\n",
    "    json1 = pd.json_normalize(jsfile['fields'])\n",
    "    return json1\n",
    "\n",
    "# dataframe 틀 잡기 \n",
    "f = open('movies_poster2.json')\n",
    "movie_poster2 = json.load(f)\n",
    "movie_poster = movie_poster2[0]\n",
    "df = pd.json_normalize(movie_poster['fields'])\n",
    "\n",
    "for movie in map(from_json_to_df, movie_poster2):\n",
    "    df = df.append(movie, ignore_index=True)\n",
    "\n",
    "df = df[1:].reset_index(drop=True)\n",
    " "
   ]
  },
  {
   "cell_type": "code",
   "execution_count": null,
   "metadata": {},
   "outputs": [],
   "source": [
    "# 알고리즘 적용하기\n",
    "\n",
    "# 영화정보를 벡터로 만들기\n",
    "movies_df = df.copy()\n",
    "movies_df['genres_literal'] = movies_df['genres'].apply(lambda x : (' ').join(map(str, x)))\n",
    "count_vect = CountVectorizer(min_df=0, ngram_range=(1,2))\n",
    "genre_mat = count_vect.fit_transform(movies_df['genres_literal'])\n",
    "\n",
    "# 벡터 간 유사도 구하기\n",
    "genre_sim = cosine_similarity(genre_mat, genre_mat)\n",
    "genre_sim_sorted_ind = genre_sim.argsort()[:, ::-1] "
   ]
  },
  {
   "cell_type": "code",
   "execution_count": null,
   "metadata": {},
   "outputs": [],
   "source": [
    "# weighted_vote 구하기 : 같은 점수라면 더 많은 투표를 얻은 영화를 선택한다\n",
    "\n",
    "percentile = 0.6\n",
    "m = movies_df['vote_count'].quantile(percentile)\n",
    "C = movies_df['vote_average'].mean()\n",
    "\n",
    "def weighted_vote_average(record):\n",
    "    v = record['vote_count']\n",
    "    R = record['vote_average']\n",
    "    \n",
    "    return ( (v/(v+m)) * R ) + ( (m/(m+v)) * C )   \n",
    "\n",
    "movies_df['weighted_vote'] = movies_df.apply(weighted_vote_average, axis=1)"
   ]
  },
  {
   "cell_type": "code",
   "execution_count": null,
   "metadata": {},
   "outputs": [],
   "source": [
    "def find_sim_movie(df, sorted_ind, movie_id, top_n=10):\n",
    "    # df에서 id인 행과 그 인덱스\n",
    "    title_movie = df[df['id'] == movie_id]\n",
    "    title_index = title_movie.index.values\n",
    "    \n",
    "    # top_n의 2배에 해당하는 쟝르 유사성이 높은 index 추출 - 기준영화\n",
    "    similar_indexes = sorted_ind[title_index, :(top_n*2)]\n",
    "    similar_indexes = similar_indexes.reshape(-1)\n",
    "    similar_indexes = similar_indexes[similar_indexes != title_index]\n",
    "    \n",
    "    # top_n의 2배에 해당하는 후보군에서 weighted_vote 높은 순으로 top_n 만큼 추출 \n",
    "    return df.iloc[similar_indexes].sort_values('weighted_vote', ascending=False)[:top_n]\n"
   ]
  },
  {
   "cell_type": "code",
   "execution_count": null,
   "metadata": {},
   "outputs": [],
   "source": [
    "# movies와 merge할 df_recom 생성\n",
    "\n",
    "df_recom = pd.DataFrame()\n",
    "\n",
    "for id in movies_df['id']:\n",
    "    similar_movies = find_sim_movie(movies_df, genre_sim_sorted_ind, id, 3)\n",
    "    \n",
    "    recommends = []\n",
    "    for index, row in similar_movies.iterrows():\n",
    "        recommends.append(row['id'])\n",
    "    \n",
    "    df_add = pd.DataFrame(data={'id':id, 'recommends':[recommends]})\n",
    "    df_recom = pd.concat([df_recom, df_add])\n",
    "\n",
    "df_final = movies_df.merge(df_recom)\n",
    "df_final.drop(columns=['genres_literal'], inplace=True)"
   ]
  },
  {
   "cell_type": "code",
   "execution_count": null,
   "metadata": {},
   "outputs": [],
   "source": [
    "# dataframe을 다시 json 으로 변환\n",
    "\n",
    "movie_list = []\n",
    "\n",
    "for idx, data in df_json.iterrows():\n",
    "    movie = {\n",
    "        'model': 'movies.movie',\n",
    "        'fields':{\n",
    "            'title': data.get('title'),\n",
    "            'id': data.get('id'),\n",
    "            'overview': data.get('overview'),\n",
    "            'poster_path': data.get('poster_path'),\n",
    "            # \n",
    "            'genres': data.get('genres'),\n",
    "            'vote_average': data.get('vote_average'),\n",
    "            'vote_count': data.get('vote_count'),\n",
    "            'weighted_vote': data.get('weighted_vote'),\n",
    "            'recommends': data.get('recommends')\n",
    "        }\n",
    "    }\n",
    "    movie_list.append(movie)\n",
    "\n",
    "with open('movies_recommends.json', 'w', encoding='utf-8') as f:\n",
    "    json.dump(movie_list, f)"
   ]
  }
 ]
}