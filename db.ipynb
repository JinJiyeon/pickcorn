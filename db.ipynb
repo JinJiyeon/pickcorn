{
 "metadata": {
  "language_info": {
   "codemirror_mode": {
    "name": "ipython",
    "version": 3
   },
   "file_extension": ".py",
   "mimetype": "text/x-python",
   "name": "python",
   "nbconvert_exporter": "python",
   "pygments_lexer": "ipython3",
   "version": "3.8.5"
  },
  "orig_nbformat": 2,
  "kernelspec": {
   "name": "python3",
   "display_name": "Python 3",
   "language": "python"
  }
 },
 "nbformat": 4,
 "nbformat_minor": 2,
 "cells": [
  {
   "cell_type": "code",
   "execution_count": 2,
   "metadata": {},
   "outputs": [],
   "source": [
    "import requests\n",
    "import json"
   ]
  },
  {
   "cell_type": "code",
   "execution_count": 1,
   "metadata": {},
   "outputs": [],
   "source": [
    "import requests\n",
    "import json\n",
    "\n",
    "API_KEY = 'c9770fb1bb1a8093a00403d97f04494a'\n",
    "BASE_URL = 'https://api.themoviedb.org/3/movie/popular/'\n",
    "\n",
    "response = requests.get(BASE_URL, { 'api_key': API_KEY, 'page': 25 })\n",
    "json_data = response.json() # Movie data\n"
   ]
  },
  {
   "cell_type": "code",
   "execution_count": 3,
   "metadata": {},
   "outputs": [],
   "source": [
    "API_KEY = 'c9770fb1bb1a8093a00403d97f04494a'\n",
    "BASE_URL = 'https://api.themoviedb.org/3/movie/popular/'\n",
    "movie_list = []\n",
    "\n",
    "for i in range(1,251):\n",
    "    response = requests.get(BASE_URL, { 'api_key': API_KEY, 'page': i })\n",
    "    json_data = response.json()\n",
    "\n",
    "\n",
    "    for data in json_data.get('results'):\n",
    "        # poster_path가 null 값인 movie는 저장하지 않음!\n",
    "        if data.get('poster_path'):\n",
    "            movie = {\n",
    "                'model': 'movies.movie',\n",
    "                'fields':{\n",
    "                    'title': data.get('title'),\n",
    "                    'id': data.get('id'),\n",
    "                    'overview': data.get('overview'),\n",
    "                    'poster_path': data.get('poster_path'),\n",
    "                    # \n",
    "                    'genres': data.get('genre_ids'),\n",
    "                    'vote_average': data.get('vote_average'),\n",
    "                    'vote_count': data.get('vote_count')\n",
    "                }\n",
    "            }\n",
    "            movie_list.append(movie)"
   ]
  },
  {
   "cell_type": "code",
   "execution_count": 4,
   "metadata": {},
   "outputs": [
    {
     "output_type": "execute_result",
     "data": {
      "text/plain": [
       "4985"
      ]
     },
     "metadata": {},
     "execution_count": 4
    }
   ],
   "source": [
    "len(movie_list)"
   ]
  },
  {
   "cell_type": "code",
   "execution_count": 5,
   "metadata": {},
   "outputs": [],
   "source": [
    "with open('movies_poster2.json', 'w', encoding='utf-8') as f:\n",
    "    json.dump(movie_list, f)"
   ]
  },
  {
   "cell_type": "code",
   "execution_count": 19,
   "metadata": {},
   "outputs": [],
   "source": [
    "API_KEY = 'c9770fb1bb1a8093a00403d97f04494a'\n",
    "BASE_URL = 'https://api.themoviedb.org/3/genre/movie/list/'\n",
    "\n",
    "response = requests.get(BASE_URL, { 'api_key': API_KEY })\n",
    "json_data = response.json()"
   ]
  },
  {
   "cell_type": "code",
   "execution_count": 20,
   "metadata": {},
   "outputs": [
    {
     "output_type": "execute_result",
     "data": {
      "text/plain": [
       "{'success': False,\n",
       " 'status_code': 34,\n",
       " 'status_message': 'The resource you requested could not be found.'}"
      ]
     },
     "metadata": {},
     "execution_count": 20
    }
   ],
   "source": [
    "json_data"
   ]
  },
  {
   "cell_type": "code",
   "execution_count": null,
   "metadata": {},
   "outputs": [],
   "source": []
  }
 ]
}